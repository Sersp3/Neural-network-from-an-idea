{
 "cells": [
  {
   "cell_type": "code",
   "id": "initial_id",
   "metadata": {
    "collapsed": true,
    "ExecuteTime": {
     "end_time": "2025-09-07T09:32:38.289790Z",
     "start_time": "2025-09-07T09:32:37.865040Z"
    }
   },
   "source": [
    "import NewTensor as nt\n",
    "import pandas as pd"
   ],
   "outputs": [],
   "execution_count": 1
  },
  {
   "metadata": {
    "ExecuteTime": {
     "end_time": "2025-09-07T09:32:38.296569Z",
     "start_time": "2025-09-07T09:32:38.289790Z"
    }
   },
   "cell_type": "code",
   "source": "mas = nt.Tensor([[1,2]])",
   "id": "b74df3727aa327a0",
   "outputs": [],
   "execution_count": 2
  },
  {
   "metadata": {
    "ExecuteTime": {
     "end_time": "2025-09-07T09:32:38.408899Z",
     "start_time": "2025-09-07T09:32:38.402626Z"
    }
   },
   "cell_type": "code",
   "source": [
    "def ReLu(input):\n",
    "    for i in range(len(input)):\n",
    "        for j in range(len(input[i])):\n",
    "            input[i][j] = max(input[i][j], 0)\n",
    "    return input\n",
    "def DevirativeReLU(input):\n",
    "    for i in range(len(input)):\n",
    "        for j in range(len(input[i])):\n",
    "            if input[i][j] > 0:\n",
    "                input[i][j] = 1\n",
    "            else:\n",
    "                input[i][j] = 0\n",
    "    return input\n",
    "def MSE_loss_devirative(input, target):\n",
    "    return 2*(input-target)\n",
    "def MSE_loss(input, target):\n",
    "    return (input-target)*(input-target)"
   ],
   "id": "3198e4037f7788d6",
   "outputs": [],
   "execution_count": 3
  },
  {
   "metadata": {
    "ExecuteTime": {
     "end_time": "2025-09-07T09:32:38.423014Z",
     "start_time": "2025-09-07T09:32:38.415265Z"
    }
   },
   "cell_type": "code",
   "source": [
    "class Linear:\n",
    "    def __init__(self, input_size, output_size,activation,devirative_activation,seed = None):\n",
    "        self.input_size = input_size\n",
    "        self.output_size = output_size\n",
    "        self.weights = nt.rand_tensor([input_size+1,output_size],seed=seed)\n",
    "        self.gradients = nt.zeros([input_size+1,output_size])\n",
    "        self.activation = activation\n",
    "        self.devirative_activation = devirative_activation\n",
    "    def __call__(self, inputs):\n",
    "        if len(inputs[0]) == self.input_size:\n",
    "            for i in range(len(inputs)):\n",
    "                inputs[i].append(1)\n",
    "        self.input = inputs\n",
    "        self.output = self.activation(nt.matmul(inputs, self.weights))\n",
    "        return self.output\n",
    "    def backward(self, error):\n",
    "        error = self.devirative_activation(self.output)*error\n",
    "        self.gradients = nt.matmul(self.input.transpose(),error)\n",
    "        return nt.matmul(error, self.weights.transpose())"
   ],
   "id": "98ba7e54ae009841",
   "outputs": [],
   "execution_count": 4
  },
  {
   "metadata": {
    "ExecuteTime": {
     "end_time": "2025-09-07T09:32:38.437626Z",
     "start_time": "2025-09-07T09:32:38.430924Z"
    }
   },
   "cell_type": "code",
   "source": [
    "class NeuralNetwork:\n",
    "    def __init__(self,sequence):\n",
    "        self.sequence = sequence\n",
    "        self.loss = MSE_loss\n",
    "        self.devirative_loss = MSE_loss_devirative\n",
    "    def __call__(self, inputs):\n",
    "        for i in self.sequence:\n",
    "            inputs = i(inputs)\n",
    "        return inputs\n",
    "    def gradient_backward(self,input,target):\n",
    "        for linear in self.sequence:\n",
    "            input = linear(input)\n",
    "        predict = input\n",
    "        self.error = self.devirative_loss(predict,target)\n",
    "        for i in range(len(self.sequence)):\n",
    "            self.error = self.sequence[len(self.sequence)-i-1].backward(self.error)\n",
    "            for i in range(len(self.error)):\n",
    "                self.error[i].pop(-1)\n",
    "    def update_weights(self,lr = 0.001):\n",
    "        for i in self.sequence:\n",
    "            i.weights  = i.weights - lr * i.gradients\n",
    "    def zero_gradient(self):\n",
    "        for i in self.sequence:\n",
    "            i.gradients = nt.zeros(i.gradients.shape())\n",
    "    def fit(self,input,target,lr = 0.001,epochs = 1000):\n",
    "        for epoch in range(epochs):\n",
    "            self.gradient_backward(input,target)\n",
    "            self.update_weights(lr)\n",
    "            self.zero_gradient()\n",
    "    def test(self):\n",
    "        "
   ],
   "id": "788b4786ee0ab202",
   "outputs": [],
   "execution_count": 5
  },
  {
   "metadata": {
    "ExecuteTime": {
     "end_time": "2025-09-07T09:32:38.462733Z",
     "start_time": "2025-09-07T09:32:38.442580Z"
    }
   },
   "cell_type": "code",
   "source": [
    "data = pd.read_csv('IRIS.csv',sep=',')\n",
    "y_column = 'species'\n",
    "types = list(data[y_column].unique())\n",
    "types_to_ind = {specie:i for i, specie in enumerate(types)}\n",
    "for i in range(len(data)):\n",
    "    if data[y_column][i] in types:\n",
    "        data.loc[i, y_column] = types_to_ind[data.loc[i, y_column]]\n",
    "import random\n",
    "def data_split(data,train_size=0.8):\n",
    "    indexes = [i for i in range(len(data))]\n",
    "    choices = random.sample(indexes,int(train_size*len(data)))\n",
    "    train_x = [[data.iloc[i].iloc[j] for j in range(4)] for i in choices]\n",
    "    train_y = [data.iloc[i].iloc[4] for i in choices]\n",
    "    val_x = [[data.iloc[i].iloc[j] for j in range(4)] for i in indexes if i not in choices]\n",
    "    val_y = [data.iloc[i].iloc[4] for i in indexes if i not in choices]\n",
    "    return train_x,train_y,val_x,val_y\n",
    "train_x,train_y,val_x,val_y = data_split(data)\n",
    "train_x = nt.Tensor(train_x).float()\n",
    "train_y = nt.Tensor(train_y).float()\n",
    "val_x = nt.Tensor(val_x).float()\n",
    "val_y = nt.Tensor(val_y).float()\n"
   ],
   "id": "3edd9504465c7e79",
   "outputs": [],
   "execution_count": 6
  },
  {
   "metadata": {
    "ExecuteTime": {
     "end_time": "2025-09-07T09:32:38.475052Z",
     "start_time": "2025-09-07T09:32:38.470695Z"
    }
   },
   "cell_type": "code",
   "source": "",
   "id": "5eb282c9cd2d31e6",
   "outputs": [],
   "execution_count": 7
  }
 ],
 "metadata": {
  "kernelspec": {
   "display_name": "Python 3",
   "language": "python",
   "name": "python3"
  },
  "language_info": {
   "codemirror_mode": {
    "name": "ipython",
    "version": 2
   },
   "file_extension": ".py",
   "mimetype": "text/x-python",
   "name": "python",
   "nbconvert_exporter": "python",
   "pygments_lexer": "ipython2",
   "version": "2.7.6"
  }
 },
 "nbformat": 4,
 "nbformat_minor": 5
}
