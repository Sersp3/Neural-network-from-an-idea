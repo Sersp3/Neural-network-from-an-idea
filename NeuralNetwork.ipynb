{
 "cells": [
  {
   "cell_type": "code",
   "id": "initial_id",
   "metadata": {
    "collapsed": true,
    "ExecuteTime": {
     "end_time": "2025-09-06T11:14:12.832289Z",
     "start_time": "2025-09-06T11:14:12.819200Z"
    }
   },
   "source": [
    "class Tensor(list):\n",
    "    def __init__(self,*args,**kwargs):\n",
    "        super(Tensor, self).__init__(*args,**kwargs)\n",
    "        if isinstance(self, list):\n",
    "            if isinstance(self[0], list):\n",
    "                for i in range(len(self)):\n",
    "                    self[i] = Tensor(self[i])\n",
    "    def __add__(self, other):\n",
    "        if self.__class__.__name__ == other.__class__.__name__:\n",
    "            return Tensor([self[i] + other[i] for i in range(len(self))])\n",
    "        elif other.__class__.__name__ == 'int'or other.__class__.__name__ == 'float':\n",
    "            return Tensor([self[i] + other for i in range(len(self))])\n",
    "    def __sub__(self, other):\n",
    "        if self.__class__.__name__ == other.__class__.__name__:\n",
    "            return Tensor([self[i] - other[i] for i in range(len(self))])\n",
    "        elif other.__class__.__name__ == 'int'or other.__class__.__name__ == 'float':\n",
    "            return Tensor([self[i] - other for i in range(len(self))])\n",
    "    def __mul__(self, other):\n",
    "        if self.__class__.__name__ == other.__class__.__name__:\n",
    "            return Tensor([self[i] * other[i] for i in range(len(self))])\n",
    "        elif other.__class__.__name__ == 'int'or other.__class__.__name__ == 'float':\n",
    "            return Tensor([self[i] * other for i in range(len(self))])\n",
    "    def __neg__(self):\n",
    "        return Tensor([-self[i] for i in range(len(self))])\n",
    "    def __round__(self, n=None):\n",
    "        if n is None:\n",
    "            return self\n",
    "        return Tensor([round(self[i],n) for i in range(len(self))])\n",
    "    def __truediv__(self, other):\n",
    "        if self.__class__.__name__ == other.__class__.__name__:\n",
    "            return Tensor([self[i] / other[i] for i in range(len(self))])\n",
    "        elif other.__class__.__name__ == 'int'or other.__class__.__name__ == 'float':\n",
    "            return Tensor([self[i] / other for i in range(len(self))])\n",
    "    def __floordiv__(self, other):\n",
    "        if self.__class__.__name__ == other.__class__.__name__:\n",
    "            return Tensor([self[i] // other[i] for i in range(len(self))])\n",
    "        elif other.__class__.__name__ == 'int'or other.__class__.__name__ == 'float':\n",
    "            return Tensor([self[i] // other for i in range(len(self))])\n",
    "    def __radd__(self, other):\n",
    "        if self.__class__.__name__ == other.__class__.__name__:\n",
    "            return Tensor([self[i] + other[i] for i in range(len(self))])\n",
    "        elif other.__class__.__name__ == 'int'or other.__class__.__name__ == 'float':\n",
    "            return Tensor([self[i] + other for i in range(len(self))])\n",
    "    def __rsub__(self, other):\n",
    "        if self.__class__.__name__ == other.__class__.__name__:\n",
    "            return Tensor([self[i] - other[i] for i in range(len(self))])\n",
    "        elif other.__class__.__name__ == 'int'or other.__class__.__name__ == 'float':\n",
    "            return Tensor([self[i] - other for i in range(len(self))])\n",
    "    def __rmul__(self, other):\n",
    "        if self.__class__.__name__ == other.__class__.__name__:\n",
    "            return Tensor([self[i] * other[i] for i in range(len(self))])\n",
    "        elif other.__class__.__name__ == 'int'or other.__class__.__name__ == 'float':\n",
    "            return Tensor([self[i] * other for i in range(len(self))])\n",
    "    def __rtruediv__(self, other):\n",
    "        if self.__class__.__name__ == other.__class__.__name__:\n",
    "            return Tensor([self[i] / other[i] for i in range(len(self))])\n",
    "        elif other.__class__.__name__ == 'int'or other.__class__.__name__ == 'float':\n",
    "            return Tensor([self[i] / other for i in range(len(self))])\n",
    "    def __rfloordiv__(self, other):\n",
    "        if self.__class__.__name__ == other.__class__.__name__:\n",
    "            return Tensor([self[i] // other[i] for i in range(len(self))])\n",
    "        elif other.__class__.__name__ == 'int'or other.__class__.__name__ == 'float':\n",
    "            return Tensor([self[i] // other for i in range(len(self))])\n",
    "    def shape(self):\n",
    "        shape = []\n",
    "        if isinstance(self, list):\n",
    "            shape.append(len(self))\n",
    "            if self[0].__class__.__name__ == 'Tensor':\n",
    "                shape = shape+self[0].shape()\n",
    "        return shape"
   ],
   "outputs": [],
   "execution_count": 252
  },
  {
   "metadata": {
    "ExecuteTime": {
     "end_time": "2025-09-06T11:15:07.771793Z",
     "start_time": "2025-09-06T11:15:07.759673Z"
    }
   },
   "cell_type": "code",
   "source": "class",
   "id": "98ba7e54ae009841",
   "outputs": [
    {
     "data": {
      "text/plain": [
       "[[[8, 10, 12], [2, 4, 6]]]"
      ]
     },
     "execution_count": 257,
     "metadata": {},
     "output_type": "execute_result"
    }
   ],
   "execution_count": 257
  },
  {
   "metadata": {},
   "cell_type": "code",
   "outputs": [],
   "execution_count": null,
   "source": "",
   "id": "788b4786ee0ab202"
  }
 ],
 "metadata": {
  "kernelspec": {
   "display_name": "Python 3",
   "language": "python",
   "name": "python3"
  },
  "language_info": {
   "codemirror_mode": {
    "name": "ipython",
    "version": 2
   },
   "file_extension": ".py",
   "mimetype": "text/x-python",
   "name": "python",
   "nbconvert_exporter": "python",
   "pygments_lexer": "ipython2",
   "version": "2.7.6"
  }
 },
 "nbformat": 4,
 "nbformat_minor": 5
}
