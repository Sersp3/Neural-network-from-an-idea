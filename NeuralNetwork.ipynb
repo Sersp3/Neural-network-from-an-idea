{
 "cells": [
  {
   "cell_type": "code",
   "id": "initial_id",
   "metadata": {
    "collapsed": true,
    "ExecuteTime": {
     "end_time": "2025-09-07T18:40:46.663137Z",
     "start_time": "2025-09-07T18:40:44.540493Z"
    }
   },
   "source": [
    "import NewTensor as nt\n",
    "import pandas as pd\n",
    "import math"
   ],
   "outputs": [],
   "execution_count": 2
  },
  {
   "metadata": {
    "ExecuteTime": {
     "end_time": "2025-09-07T18:40:46.676535Z",
     "start_time": "2025-09-07T18:40:46.670199Z"
    }
   },
   "cell_type": "code",
   "source": "mas = nt.Tensor([[1,2]])",
   "id": "b74df3727aa327a0",
   "outputs": [],
   "execution_count": 3
  },
  {
   "metadata": {
    "ExecuteTime": {
     "end_time": "2025-09-07T18:54:23.519418Z",
     "start_time": "2025-09-07T18:54:23.514570Z"
    }
   },
   "cell_type": "code",
   "source": [
    "import math\n",
    "\n",
    "def Tanh(x):\n",
    "    return math.tanh(x)\n",
    "def ReLU(x, **kwargs):\n",
    "    if x <= 0:\n",
    "        return 0\n",
    "    return kwargs.get('weight',1)*x\n",
    "\n",
    "Derivative_list = {\n",
    "    Tanh: lambda x, **kwargs: 2/(1 + math.e**(-2*x)) - 1,\n",
    "    ReLU: lambda x, **kwargs: kwargs.get('weight', 1) if x >= 0 else 0\n",
    "}\n",
    "def Derivative_Activation(input, act, **kwargs):\n",
    "    shape = input.shape()\n",
    "    if len(shape) == 1:\n",
    "        for i in range(shape[0]):\n",
    "            res = Derivative_list[act](input[i], **kwargs)\n",
    "            input[i] = res\n",
    "        return\n",
    "    for i in range(shape[0]):\n",
    "        Derivative_Activation(input[i], act, **kwargs)\n",
    "    return input\n",
    "\n",
    "def Activation(input, act, **kwargs):\n",
    "    shape = input.shape()\n",
    "    if len(shape) == 1:\n",
    "        for i in range(shape[0]):\n",
    "            res = act(input[i])\n",
    "            input[i] = res\n",
    "        return\n",
    "    for i in range(shape[0]):\n",
    "        Activation(input[i], act, **kwargs)\n",
    "\n",
    "    return input"
   ],
   "id": "a451d3bf701a8f1b",
   "outputs": [],
   "execution_count": 8
  },
  {
   "metadata": {
    "ExecuteTime": {
     "end_time": "2025-09-07T19:00:52.157956Z",
     "start_time": "2025-09-07T19:00:52.132780Z"
    }
   },
   "cell_type": "code",
   "source": "",
   "id": "d0db85ee9e7481b8",
   "outputs": [
    {
     "ename": "TypeError",
     "evalue": "'weight' is an invalid keyword argument for print()",
     "output_type": "error",
     "traceback": [
      "\u001B[31m---------------------------------------------------------------------------\u001B[39m",
      "\u001B[31mTypeError\u001B[39m                                 Traceback (most recent call last)",
      "\u001B[36mCell\u001B[39m\u001B[36m \u001B[39m\u001B[32mIn[10]\u001B[39m\u001B[32m, line 3\u001B[39m\n\u001B[32m      1\u001B[39m \u001B[38;5;28;01mdef\u001B[39;00m\u001B[38;5;250m \u001B[39m\u001B[34mf\u001B[39m(x,**kwargs):\n\u001B[32m      2\u001B[39m     \u001B[38;5;28mprint\u001B[39m(**kwargs)\n\u001B[32m----> \u001B[39m\u001B[32m3\u001B[39m \u001B[43mf\u001B[49m\u001B[43m(\u001B[49m\u001B[32;43m5\u001B[39;49m\u001B[43m,\u001B[49m\u001B[43m \u001B[49m\u001B[43mweight\u001B[49m\u001B[43m=\u001B[49m\u001B[32;43m1\u001B[39;49m\u001B[43m,\u001B[49m\u001B[43m \u001B[49m\u001B[43mbias\u001B[49m\u001B[43m=\u001B[49m\u001B[32;43m0\u001B[39;49m\u001B[43m)\u001B[49m\n",
      "\u001B[36mCell\u001B[39m\u001B[36m \u001B[39m\u001B[32mIn[10]\u001B[39m\u001B[32m, line 2\u001B[39m, in \u001B[36mf\u001B[39m\u001B[34m(x, **kwargs)\u001B[39m\n\u001B[32m      1\u001B[39m \u001B[38;5;28;01mdef\u001B[39;00m\u001B[38;5;250m \u001B[39m\u001B[34mf\u001B[39m(x,**kwargs):\n\u001B[32m----> \u001B[39m\u001B[32m2\u001B[39m     \u001B[38;5;28;43mprint\u001B[39;49m\u001B[43m(\u001B[49m\u001B[43m*\u001B[49m\u001B[43m*\u001B[49m\u001B[43mkwargs\u001B[49m\u001B[43m)\u001B[49m\n",
      "\u001B[31mTypeError\u001B[39m: 'weight' is an invalid keyword argument for print()"
     ]
    }
   ],
   "execution_count": 10
  },
  {
   "metadata": {
    "ExecuteTime": {
     "end_time": "2025-09-07T18:42:28.041031Z",
     "start_time": "2025-09-07T18:42:28.029938Z"
    }
   },
   "cell_type": "code",
   "source": "",
   "id": "5fdb15c9ace2ac75",
   "outputs": [
    {
     "data": {
      "text/plain": [
       "[[[1, 2], [0, 0]], [[1, 2]]]"
      ]
     },
     "execution_count": 7,
     "metadata": {},
     "output_type": "execute_result"
    }
   ],
   "execution_count": 7
  },
  {
   "metadata": {
    "ExecuteTime": {
     "end_time": "2025-09-07T18:36:55.925289Z",
     "start_time": "2025-09-07T18:36:55.916872Z"
    }
   },
   "cell_type": "code",
   "source": [
    "#def ReLu(input):\n",
    "#    for i in range(len(input)):\n",
    "#        for j in range(len(input[i])):\n",
    "#            input[i][j] = max(input[i][j], 0)\n",
    "#    return input\n",
    "#def DevirativeReLU(input):\n",
    "#    for i in range(len(input)):\n",
    "#        for j in range(len(input[i])):\n",
    "#            if input[i][j] > 0:\n",
    "#                input[i][j] = 1\n",
    "#            else:\n",
    "#                input[i][j] = 0\n",
    "#    return input\n",
    "def MSE_loss_devirative(input, target):\n",
    "    return 2*(input-target)\n",
    "def MSE_loss(input, target):\n",
    "    return (input-target)*(input-target)"
   ],
   "id": "3198e4037f7788d6",
   "outputs": [],
   "execution_count": 1
  },
  {
   "metadata": {},
   "cell_type": "code",
   "source": [
    "class Linear:\n",
    "    def __init__(self, input_size, output_size,activation,devirative_activation,seed = None, **kwargs):\n",
    "        self.input_size = input_size\n",
    "        self.output_size = output_size\n",
    "        self.weights = nt.rand_tensor([input_size+1,output_size],seed=seed)\n",
    "        self.gradients = nt.zeros([input_size+1,output_size])\n",
    "        self.activation = activation\n",
    "        self.devirative_activation = Derivative_Activation(activation)\n",
    "    def __call__(self, inputs):\n",
    "        if len(inputs[0]) == self.input_size:\n",
    "            for i in range(len(inputs)):\n",
    "                inputs[i].append(1)\n",
    "        self.input = inputs\n",
    "        self.output = self.activation(nt.matmul(inputs, self.weights))\n",
    "        return self.output\n",
    "    def backward(self, error):\n",
    "        error = self.devirative_activation(self.output, self.activation)*error\n",
    "        self.gradients = nt.matmul(self.input.transpose(),error)\n",
    "        return nt.matmul(error, self.weights.transpose())"
   ],
   "id": "98ba7e54ae009841",
   "outputs": [],
   "execution_count": null
  },
  {
   "metadata": {},
   "cell_type": "code",
   "source": [
    "class NeuralNetwork:\n",
    "    def __init__(self,sequence):\n",
    "        self.sequence = sequence\n",
    "        self.loss = MSE_loss\n",
    "        self.devirative_loss = MSE_loss_devirative\n",
    "    def __call__(self, inputs):\n",
    "        for i in self.sequence:\n",
    "            inputs = i(inputs)\n",
    "        return inputs\n",
    "    def gradient_backward(self,inputs,target):\n",
    "        predict = self(inputs)\n",
    "        self.error = self.devirative_loss(predict,target)\n",
    "        for i in range(len(self.sequence)):\n",
    "            self.error = self.sequence[len(self.sequence)-i-1].backward(self.error)\n",
    "            for i in range(len(self.error)):\n",
    "                self.error[i].pop(-1)\n",
    "    def update_weights(self,lr = 0.001):\n",
    "        for i in self.sequence:\n",
    "            i.weights  = i.weights - lr * i.gradients\n",
    "    def zero_gradient(self):\n",
    "        for i in self.sequence:\n",
    "            i.gradients = nt.zeros(i.gradients.shape())\n",
    "    def fit(self,input,target,lr = 0.001,epochs = 1000):\n",
    "        for epoch in range(epochs):\n",
    "            self.gradient_backward(input,target)\n",
    "            self.update_weights(lr)\n",
    "            self.zero_gradient()\n",
    "    def test(self):\n",
    "        "
   ],
   "id": "788b4786ee0ab202",
   "outputs": [],
   "execution_count": null
  },
  {
   "metadata": {},
   "cell_type": "code",
   "outputs": [],
   "execution_count": null,
   "source": "model = NeuralNetwork([Linear(1,1)])",
   "id": "ed7996c090d574d3"
  },
  {
   "metadata": {},
   "cell_type": "code",
   "source": [
    "data = pd.read_csv('IRIS.csv',sep=',')\n",
    "y_column = 'species'\n",
    "types = list(data[y_column].unique())\n",
    "types_to_ind = {specie:i for i, specie in enumerate(types)}\n",
    "for i in range(len(data)):\n",
    "    if data[y_column][i] in types:\n",
    "        data.loc[i, y_column] = types_to_ind[data.loc[i, y_column]]\n",
    "import random\n",
    "def data_split(data,train_size=0.8):\n",
    "    indexes = [i for i in range(len(data))]\n",
    "    choices = random.sample(indexes,int(train_size*len(data)))\n",
    "    train_x = [[data.iloc[i].iloc[j] for j in range(4)] for i in choices]\n",
    "    train_y = [data.iloc[i].iloc[4] for i in choices]\n",
    "    val_x = [[data.iloc[i].iloc[j] for j in range(4)] for i in indexes if i not in choices]\n",
    "    val_y = [data.iloc[i].iloc[4] for i in indexes if i not in choices]\n",
    "    return train_x,train_y,val_x,val_y\n",
    "train_x,train_y,val_x,val_y = data_split(data)\n",
    "train_x = nt.Tensor(train_x).float()\n",
    "train_y = nt.Tensor(train_y).float()\n",
    "val_x = nt.Tensor(val_x).float()\n",
    "val_y = nt.Tensor(val_y).float()\n"
   ],
   "id": "3edd9504465c7e79",
   "outputs": [],
   "execution_count": null
  },
  {
   "metadata": {},
   "cell_type": "code",
   "source": "",
   "id": "5eb282c9cd2d31e6",
   "outputs": [],
   "execution_count": null
  }
 ],
 "metadata": {
  "kernelspec": {
   "display_name": "Python 3",
   "language": "python",
   "name": "python3"
  },
  "language_info": {
   "codemirror_mode": {
    "name": "ipython",
    "version": 2
   },
   "file_extension": ".py",
   "mimetype": "text/x-python",
   "name": "python",
   "nbconvert_exporter": "python",
   "pygments_lexer": "ipython2",
   "version": "2.7.6"
  }
 },
 "nbformat": 4,
 "nbformat_minor": 5
}
