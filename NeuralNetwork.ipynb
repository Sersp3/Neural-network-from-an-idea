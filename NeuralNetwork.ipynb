{
 "cells": [
  {
   "cell_type": "code",
   "id": "initial_id",
   "metadata": {
    "collapsed": true,
    "ExecuteTime": {
     "end_time": "2025-09-06T21:24:00.943835Z",
     "start_time": "2025-09-06T21:24:00.931432Z"
    }
   },
   "source": "import NewTensor as nt",
   "outputs": [],
   "execution_count": 1
  },
  {
   "metadata": {
    "ExecuteTime": {
     "end_time": "2025-09-06T21:24:20.057041Z",
     "start_time": "2025-09-06T21:24:20.050945Z"
    }
   },
   "cell_type": "code",
   "source": "mas = nt.Tensor([[1,2]])",
   "id": "b74df3727aa327a0",
   "outputs": [
    {
     "name": "stdout",
     "output_type": "stream",
     "text": [
      "[1, 2]\n"
     ]
    },
    {
     "data": {
      "text/plain": [
       "[2, 1]"
      ]
     },
     "execution_count": 5,
     "metadata": {},
     "output_type": "execute_result"
    }
   ],
   "execution_count": 5
  },
  {
   "metadata": {},
   "cell_type": "code",
   "source": [
    "class Linear:\n",
    "    def __init__(self, input_size, output_size,activation,seed = None):\n",
    "        self.input_size = input_size\n",
    "        self.output_size = output_size\n",
    "        self.weights = nt.rand_tensor([input_size+1,output_size],seed=seed)\n",
    "        self.gradients = nt.zeros([input_size+1,output_size])\n",
    "        self.activation = activation\n",
    "    def __call__(self, inputs):\n",
    "        for i in range(len(inputs)):\n",
    "            inputs[i].append(1)\n",
    "        self.input = inputs\n",
    "        self.output = self.activation(nt.matmul(inputs, self.weights))\n",
    "        return self.activation(nt.matmul(inputs, self.weights))\n",
    "    def backward(self, error):\n",
    "        #TODO devirative_activation производная функции активации\n",
    "        error = devirative_activation(self.output)*error\n",
    "        self.gradients = nt.matmul(error.transpose(), self.input)\n",
    "        return nt.matmul(error, self.weights)"
   ],
   "id": "98ba7e54ae009841",
   "outputs": [],
   "execution_count": null
  },
  {
   "metadata": {},
   "cell_type": "code",
   "source": [
    "class NeuralNetwork:\n",
    "    def __init__(self,sequence):\n",
    "        self.sequence = sequence\n",
    "    def __call__(self, inputs):\n",
    "        for i in self.sequence:\n",
    "            inputs = self.sequence(inputs)\n",
    "        return inputs\n",
    "    def loss(self,input,target):\n",
    "        predict = self(input)\n",
    "        #TODO функция лосса, можно сразу считать градиент и запоминать\n",
    "        loss_function(predict, target)\n",
    "        #можно впихнуть сюда градиентное обновление"
   ],
   "id": "788b4786ee0ab202",
   "outputs": [],
   "execution_count": null
  }
 ],
 "metadata": {
  "kernelspec": {
   "display_name": "Python 3",
   "language": "python",
   "name": "python3"
  },
  "language_info": {
   "codemirror_mode": {
    "name": "ipython",
    "version": 2
   },
   "file_extension": ".py",
   "mimetype": "text/x-python",
   "name": "python",
   "nbconvert_exporter": "python",
   "pygments_lexer": "ipython2",
   "version": "2.7.6"
  }
 },
 "nbformat": 4,
 "nbformat_minor": 5
}
