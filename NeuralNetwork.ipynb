{
 "cells": [
  {
   "cell_type": "code",
   "id": "initial_id",
   "metadata": {
    "collapsed": true,
    "ExecuteTime": {
     "end_time": "2025-09-07T08:18:29.307644Z",
     "start_time": "2025-09-07T08:18:29.305342Z"
    }
   },
   "source": [
    "\n",
    "import NewTensor as nt"
   ],
   "outputs": [],
   "execution_count": 4
  },
  {
   "metadata": {
    "ExecuteTime": {
     "end_time": "2025-09-06T21:24:20.057041Z",
     "start_time": "2025-09-06T21:24:20.050945Z"
    }
   },
   "cell_type": "code",
   "source": "mas = nt.Tensor([[1,2]])",
   "id": "b74df3727aa327a0",
   "outputs": [
    {
     "name": "stdout",
     "output_type": "stream",
     "text": [
      "[1, 2]\n"
     ]
    },
    {
     "data": {
      "text/plain": [
       "[2, 1]"
      ]
     },
     "execution_count": 5,
     "metadata": {},
     "output_type": "execute_result"
    }
   ],
   "execution_count": 5
  },
  {
   "metadata": {
    "ExecuteTime": {
     "end_time": "2025-09-07T08:27:35.932605Z",
     "start_time": "2025-09-07T08:27:35.920198Z"
    }
   },
   "cell_type": "code",
   "source": [
    "def ReLu(input):\n",
    "    for i in range(len(input)):\n",
    "        for j in range(len(input[i])):\n",
    "            input[i][j] = max(input[i][j], 0)\n",
    "    return input\n",
    "def DevirativeReLU(input):\n",
    "    for i in range(len(input)):\n",
    "        for j in range(len(input[i])):\n",
    "            if input[i][j] > 0:\n",
    "                input[i][j] = 1\n",
    "            else:\n",
    "                input[i][j] = 0\n",
    "    return input"
   ],
   "id": "3198e4037f7788d6",
   "outputs": [],
   "execution_count": 47
  },
  {
   "metadata": {
    "ExecuteTime": {
     "end_time": "2025-09-07T08:52:28.178836Z",
     "start_time": "2025-09-07T08:52:28.172338Z"
    }
   },
   "cell_type": "code",
   "source": [
    "class Linear:\n",
    "    def __init__(self, input_size, output_size,activation,devirative_activation,seed = None):\n",
    "        self.input_size = input_size\n",
    "        self.output_size = output_size\n",
    "        #вернуть ранд веса\n",
    "        self.weights = nt.ones([input_size+1,output_size])\n",
    "        self.gradients = nt.zeros([input_size+1,output_size])\n",
    "        self.activation = activation\n",
    "        self.devirative_activation = devirative_activation\n",
    "    def __call__(self, inputs):\n",
    "        for i in range(len(inputs)):\n",
    "            inputs[i].append(1)\n",
    "        self.input = inputs\n",
    "        self.output = self.activation(nt.matmul(inputs, self.weights))\n",
    "        return self.output\n",
    "    def backward(self, error):\n",
    "        error = self.devirative_activation(self.output)*error\n",
    "        self.gradients = nt.matmul(self.input.transpose(),error)\n",
    "        return nt.matmul(error, self.weights.transpose())"
   ],
   "id": "98ba7e54ae009841",
   "outputs": [],
   "execution_count": 108
  },
  {
   "metadata": {
    "ExecuteTime": {
     "end_time": "2025-09-07T08:52:28.477372Z",
     "start_time": "2025-09-07T08:52:28.471518Z"
    }
   },
   "cell_type": "code",
   "source": [
    "class NeuralNetwork:\n",
    "    def __init__(self,sequence):\n",
    "        self.sequence = sequence\n",
    "    def __call__(self, inputs):\n",
    "        for i in self.sequence:\n",
    "            inputs = i(inputs)\n",
    "        return inputs\n",
    "    def gradient_backward(self,input,target):\n",
    "        for linear in self.sequence:\n",
    "            input = linear(input)\n",
    "        predict = input\n",
    "        self.error = (target - predict)*(target-predict)\n",
    "        self.error = -2*(predict-target)\n",
    "        print(predict,target)\n",
    "        print(self.error)\n",
    "        #TODO функция лосса, можно сразу считать градиент и запоминать\n",
    "        #self.error = self.loss(predict, target)\n",
    "        #self.error = self.devirative_loss(self.error)\n",
    "        for i in range(len(self.sequence)):\n",
    "            self.error = self.sequence[len(self.sequence)-i-1].backward(self.error)\n",
    "            for i in range(len(self.error)):\n",
    "                self.error[i].pop(-1)\n",
    "        #можно впихнуть сюда градиентное обновление"
   ],
   "id": "788b4786ee0ab202",
   "outputs": [],
   "execution_count": 109
  },
  {
   "metadata": {
    "ExecuteTime": {
     "end_time": "2025-09-07T08:54:30.395928Z",
     "start_time": "2025-09-07T08:54:30.391787Z"
    }
   },
   "cell_type": "code",
   "source": [
    "linear = Linear(3,2,ReLu,DevirativeReLU)\n",
    "model = NeuralNetwork([linear])\n",
    "input = nt.Tensor([[1,2,3]])\n",
    "target = nt.Tensor([[2,3]])\n",
    "model.gradient_backward(input,target)"
   ],
   "id": "f8c0b8f085eed56",
   "outputs": [
    {
     "name": "stdout",
     "output_type": "stream",
     "text": [
      "[[0, 0]] [[2, 3]]\n",
      "[[4, 6]]\n",
      "[[0, 0]]\n"
     ]
    }
   ],
   "execution_count": 112
  },
  {
   "metadata": {
    "ExecuteTime": {
     "end_time": "2025-09-07T08:54:31.984922Z",
     "start_time": "2025-09-07T08:54:31.979945Z"
    }
   },
   "cell_type": "code",
   "source": "linear.gradients",
   "id": "69005a8f0bcfcda6",
   "outputs": [
    {
     "data": {
      "text/plain": [
       "[[0, 0], [0, 0], [0, 0], [0, 0]]"
      ]
     },
     "execution_count": 113,
     "metadata": {},
     "output_type": "execute_result"
    }
   ],
   "execution_count": 113
  },
  {
   "metadata": {
    "ExecuteTime": {
     "end_time": "2025-09-07T08:54:32.568578Z",
     "start_time": "2025-09-07T08:54:32.563049Z"
    }
   },
   "cell_type": "code",
   "source": "linear.weights",
   "id": "c58aaff6425a7cfa",
   "outputs": [
    {
     "data": {
      "text/plain": [
       "[[1, 1], [1, 1], [1, 1], [1, 1]]"
      ]
     },
     "execution_count": 114,
     "metadata": {},
     "output_type": "execute_result"
    }
   ],
   "execution_count": 114
  },
  {
   "metadata": {
    "ExecuteTime": {
     "end_time": "2025-09-07T08:54:33.076375Z",
     "start_time": "2025-09-07T08:54:33.070585Z"
    }
   },
   "cell_type": "code",
   "source": "model.error",
   "id": "ffca205764338cb2",
   "outputs": [
    {
     "data": {
      "text/plain": [
       "[[0, 0, 0]]"
      ]
     },
     "execution_count": 115,
     "metadata": {},
     "output_type": "execute_result"
    }
   ],
   "execution_count": 115
  },
  {
   "metadata": {},
   "cell_type": "code",
   "outputs": [],
   "execution_count": null,
   "source": "",
   "id": "2909e781be7870fd"
  }
 ],
 "metadata": {
  "kernelspec": {
   "display_name": "Python 3",
   "language": "python",
   "name": "python3"
  },
  "language_info": {
   "codemirror_mode": {
    "name": "ipython",
    "version": 2
   },
   "file_extension": ".py",
   "mimetype": "text/x-python",
   "name": "python",
   "nbconvert_exporter": "python",
   "pygments_lexer": "ipython2",
   "version": "2.7.6"
  }
 },
 "nbformat": 4,
 "nbformat_minor": 5
}
