{
 "cells": [
  {
   "cell_type": "code",
   "id": "initial_id",
   "metadata": {
    "collapsed": true,
    "ExecuteTime": {
     "end_time": "2025-09-06T18:20:33.552661Z",
     "start_time": "2025-09-06T18:20:33.539947Z"
    }
   },
   "source": "import NewTensor as nt",
   "outputs": [],
   "execution_count": 1
  },
  {
   "metadata": {
    "ExecuteTime": {
     "end_time": "2025-09-06T19:07:07.144193Z",
     "start_time": "2025-09-06T19:07:07.132976Z"
    }
   },
   "cell_type": "code",
   "source": [
    "mas = nt.Tensor([[1,2]])\n",
    "mas.shape()"
   ],
   "id": "b74df3727aa327a0",
   "outputs": [
    {
     "data": {
      "text/plain": [
       "[1, 2]"
      ]
     },
     "execution_count": 10,
     "metadata": {},
     "output_type": "execute_result"
    }
   ],
   "execution_count": 10
  },
  {
   "metadata": {},
   "cell_type": "code",
   "source": [
    "class Linear:\n",
    "    def __init__(self, input_size, output_size,activation,seed = None):\n",
    "        self.input_size = input_size\n",
    "        self.output_size = output_size\n",
    "        self.weights = nt.rand_tensor([input_size+1,output_size],seed=seed)\n",
    "        self.gradients = nt.zeros([input_size+1,output_size])\n",
    "        self.activation = activation\n",
    "    def __call__(self, inputs):\n",
    "        for i in range(len(inputs)):\n",
    "            inputs[i].append(1)\n",
    "        self.input = inputs\n",
    "        return self.activation(nt.matmul(inputs, self.weights))\n",
    "    def backward(self, error):\n",
    "        for i in range(self.input_size+1):\n",
    "            for j in range(self.output_size):\n",
    "                for k in range(self.input_size+1):\n",
    "                    self.gradients[i][j] = self.gradients[i][j] + error[k][j] * self.input[k][i]\n",
    "        next_error = nt.zeros(self.input.shape())"
   ],
   "id": "98ba7e54ae009841",
   "outputs": [],
   "execution_count": null
  },
  {
   "metadata": {},
   "cell_type": "code",
   "source": "",
   "id": "788b4786ee0ab202",
   "outputs": [],
   "execution_count": null
  }
 ],
 "metadata": {
  "kernelspec": {
   "display_name": "Python 3",
   "language": "python",
   "name": "python3"
  },
  "language_info": {
   "codemirror_mode": {
    "name": "ipython",
    "version": 2
   },
   "file_extension": ".py",
   "mimetype": "text/x-python",
   "name": "python",
   "nbconvert_exporter": "python",
   "pygments_lexer": "ipython2",
   "version": "2.7.6"
  }
 },
 "nbformat": 4,
 "nbformat_minor": 5
}
